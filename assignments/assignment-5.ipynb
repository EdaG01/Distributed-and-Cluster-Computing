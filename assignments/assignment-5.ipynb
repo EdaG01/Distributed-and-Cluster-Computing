{
 "cells": [
  {
   "cell_type": "markdown",
   "metadata": {},
   "source": [
    "### Assignment 5 (15 points)\n",
    "\n",
    "#### Part 1: Form a team (5 points):\n",
    "\n",
    "You are to set up a PBS Scheduler using PBS Pro (the open source verions: http://pbspro.org/ (Links to an external site.)Links to an external site.). \n",
    "\n",
    "- The node where users can submit job is from the head node, and will control the three compute nodes. \n",
    "\n",
    "#### Submission:\n",
    "\n",
    "Each team should submit a text file to D2L containing the following:\n",
    "\n",
    "- The URL to the team repository.\n",
    "- The URL to the experiment instance of Part 2 on CloudLab (should be instantiated the moment you submit the assignment on D2L)\n",
    "\n",
    "As there is a timer on CloudLab experiment, I will attempt to grade your assignment as soon as possible, and I will **assume** that I have between 12 to 16 hours (see Submission condition) to grade. \n",
    "\n",
    "This is a team assignment. Each team should only have one submission"
   ]
  }
 ],
 "metadata": {
  "kernelspec": {
   "display_name": "Python 3",
   "language": "python",
   "name": "python3"
  },
  "language_info": {
   "codemirror_mode": {
    "name": "ipython",
    "version": 3
   },
   "file_extension": ".py",
   "mimetype": "text/x-python",
   "name": "python",
   "nbconvert_exporter": "python",
   "pygments_lexer": "ipython3",
   "version": "3.6.5"
  }
 },
 "nbformat": 4,
 "nbformat_minor": 2
}
