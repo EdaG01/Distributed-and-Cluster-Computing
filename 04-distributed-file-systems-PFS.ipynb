{
 "cells": [
  {
   "cell_type": "markdown",
   "metadata": {
    "collapsed": true,
    "slideshow": {
     "slide_type": "slide"
    }
   },
   "source": [
    "## <center> Distributed File Systems </center>\n",
    "\n",
    "#### <center> Linh B. Ngo </center>\n",
    "#### <center> CPSC 3620 </center>"
   ]
  },
  {
   "cell_type": "markdown",
   "metadata": {
    "slideshow": {
     "slide_type": "slide"
    }
   },
   "source": [
    "<center> How to arrange read/write accesses with processes running on computer that are part of a computing cluster?"
   ]
  },
  {
   "cell_type": "markdown",
   "metadata": {
    "slideshow": {
     "slide_type": "slide"
    }
   },
   "source": [
    "** Networked File System **\n",
    "- Allow transparent access to files stored on a remote disk (Palmetto's `/home` and `/software`)\n",
    "\n",
    "** Clustered File System **\n",
    "- Allow transparent access to files stored on a large set of disks, which could be distributed across multiple computers (Palmetto's `/scratch2` and `/scratch3`)\n",
    "\n",
    "** Parallel File System **\n",
    "- Enable parallel access to files (Palmetto's `/scratch1`)"
   ]
  },
  {
   "cell_type": "markdown",
   "metadata": {
    "slideshow": {
     "slide_type": "slide"
    }
   },
   "source": [
    "** Networked File System ** \n",
    "\n",
    "<img src=\"pictures/distributed-file-systems/sun.jpg\" height=\"42\">\n",
    "\n",
    "*Sandberg, R., Goldberg, D., Kleiman, S., Walsh, D., & Lyon, B. (1985, June). Design and implementation of the Sun network filesystem. In Proceedings of the Summer USENIX conference (pp. 119-130)*"
   ]
  },
  {
   "cell_type": "markdown",
   "metadata": {
    "slideshow": {
     "slide_type": "slide"
    }
   },
   "source": [
    "- Sun Network Filesystem Protocol (NFS)\n",
    "- Current version: 4.2v\n",
    "- Design Goals\n",
    "  - Machine and operating system independence\n",
    "  - Crash recovery\n",
    "  - Transparent access\n",
    "  - UNIX semantics maintained on client\n",
    "  - Reasonable performance (target 80% as fast as local disk)"
   ]
  },
  {
   "cell_type": "markdown",
   "metadata": {
    "slideshow": {
     "slide_type": "slide"
    }
   },
   "source": [
    "NFS Design:\n",
    "- NFS Protocol\n",
    "- Server side\n",
    "- Client side    "
   ]
  },
  {
   "cell_type": "markdown",
   "metadata": {
    "slideshow": {
     "slide_type": "slide"
    }
   },
   "source": [
    "NFS Protocol:\n",
    "- Remote Procedure Call mechanism\n",
    "- Stateless protocol\n",
    "- Transport independence (UDP/IP)"
   ]
  },
  {
   "cell_type": "markdown",
   "metadata": {
    "slideshow": {
     "slide_type": "slide"
    }
   },
   "source": [
    "NFS Server:\n",
    "- Must commit modifications before return results\n",
    "- Generation number in inode and filesystem id in superblock\n",
    "\n",
    "NFS Client:\n",
    "- Additional virtual file system interface in the Linux kernel\n",
    "- Attach remote file system via `mount`"
   ]
  },
  {
   "cell_type": "markdown",
   "metadata": {
    "slideshow": {
     "slide_type": "slide"
    }
   },
   "source": [
    "<img src=\"pictures/distributed-file-systems/SunNFS.png\">\n"
   ]
  },
  {
   "cell_type": "markdown",
   "metadata": {
    "slideshow": {
     "slide_type": "slide"
    }
   },
   "source": [
    "** Clustered File System **\n",
    "\n",
    "- Additional middleware layers such as the tasks of a file system server can be distributed among a cluster of computers\n",
    "- Example: The Zettabyte File System by Sun Microsystem\n",
    "\n",
    "*Bonwick, Jeff, Matt Ahrens, Val Henson, Mark Maybee, and Mark Shellenbaum. \"The zettabyte file system.\" In Proc. of the 2nd Usenix Conference on File and Storage Technologies, vol. 215. 2003.*"
   ]
  },
  {
   "cell_type": "markdown",
   "metadata": {
    "slideshow": {
     "slide_type": "slide"
    }
   },
   "source": [
    "Design Principles:\n",
    "- Simple administration: simplify and automate adminstration of storage to a much greater degree\n",
    "- Pooled storage: decouple file systems from physical storage with allocation being done on the pooled storage side rather than the file system side\n",
    "- Dynamic file system size:\n",
    "- Always consisten on-disk data\n",
    "- Immense capacity\n",
    "- Error detection and correction"
   ]
  },
  {
   "cell_type": "markdown",
   "metadata": {
    "slideshow": {
     "slide_type": "slide"
    }
   },
   "source": [
    "** More fine-grained distinctions **\n",
    "- Data distribution\n",
    "    - DFS often stores entire files on a single node (can have multiple nodes)\n",
    "    - PFS distributes contents of a file across multiple nodes\n",
    "- Symmetry (not entirely true)\n",
    "    - DFS often runs on architecture where the storage is colocated with the application\n",
    "    - PFS often runs on architecture where the storage is physically separate from the compute system"
   ]
  },
  {
   "cell_type": "markdown",
   "metadata": {
    "slideshow": {
     "slide_type": "slide"
    }
   },
   "source": [
    "** More fine-grained distinctions **\n",
    "- Fault-tolerance\n",
    "    - DFS takes on fault-tolerance responsibilities\n",
    "    - PFS runs on enterprise shared storage (no fault-tolerance but rely on hardware quality)\n",
    "- Workloads\n",
    "    - DFS is geared for loosely coupled, distributed applications (think data-intensive/big data)\n",
    "    - PFS targets HPC applications that require highly coordinated I/O accesses with massive bandwidth requirements"
   ]
  },
  {
   "cell_type": "markdown",
   "metadata": {
    "slideshow": {
     "slide_type": "slide"
    }
   },
   "source": [
    "** Parallel file access mechanims **\n",
    "- Shared-file (N-to-1): A single file is created, and all application tasks write to that file (usually to disjoint regions)\n",
    "    - Increased usability: only one file is needed\n",
    "    - Can create lock contention and reduce performance\n",
    "- File-per-process (N-to-N): Each application task creates a separate file, and writes only to that file. \n",
    "    - Avoids lock contention\n",
    "    - Can create massive amount of small files\n",
    "    - Does not support application restart on different number of tasks"
   ]
  },
  {
   "cell_type": "markdown",
   "metadata": {
    "slideshow": {
     "slide_type": "slide"
    }
   },
   "source": [
    "** Data Distribution in Parallel File Systems **\n",
    "- Original File: Sequence of Bytes\n",
    "- Sequence of bytes are converted into sequence of offsets (each offset can cover multiple bytes)\n",
    "- Offsets are mapped to objects\n",
    "    - not necessarily ordered mapping\n",
    "    - reversible to allow clients to contact specific PFS server for specific data content\n",
    "- Objects are distributed across PFS servers\n",
    "    - Information about where the objects are is stored at the metadata server"
   ]
  },
  {
   "cell_type": "markdown",
   "metadata": {
    "slideshow": {
     "slide_type": "slide"
    }
   },
   "source": [
    "** Object Placement **\n",
    "- Round robin is reasonable default solution\n",
    "- Work consistently on most systems\n",
    "- Default solutions for: GPFS, Lustre, PVFS\n",
    "- Potential scalability issue with massive scaling of file servers and file size\n",
    "    - Two dimensional distribution\n",
    "    - Limit number of servers per file"
   ]
  },
  {
   "cell_type": "markdown",
   "metadata": {
    "slideshow": {
     "slide_type": "slide"
    }
   },
   "source": [
    "** Block-based PFS **\n",
    "- Objects are created as fixed-width blocks\n",
    "- File growth requires more blocks\n",
    "- Blocks distributed over storage nodes\n",
    "- Suffer from block allocation issues, lock managers\n",
    "- Example: GPFS"
   ]
  },
  {
   "cell_type": "markdown",
   "metadata": {
    "slideshow": {
     "slide_type": "slide"
    }
   },
   "source": [
    "** Object-based PFS **\n",
    "- Objects are created as variable-length regions of the file\n",
    "- A file has a constant number of objjects\n",
    "- File growth increases the size of the object(s)\n",
    "- Space allocation is managed locally on a per-object basis\n",
    "- Potential issue with workload imbalance\n",
    "- Example: Lustre, PVFS"
   ]
  }
 ],
 "metadata": {
  "celltoolbar": "Slideshow",
  "kernelspec": {
   "display_name": "Python 3",
   "language": "python",
   "name": "python3"
  },
  "language_info": {
   "codemirror_mode": {
    "name": "ipython",
    "version": 3
   },
   "file_extension": ".py",
   "mimetype": "text/x-python",
   "name": "python",
   "nbconvert_exporter": "python",
   "pygments_lexer": "ipython3",
   "version": "3.6.0"
  }
 },
 "nbformat": 4,
 "nbformat_minor": 1
}
