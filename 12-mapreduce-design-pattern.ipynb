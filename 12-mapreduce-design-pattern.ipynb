{
 "cells": [
  {
   "cell_type": "markdown",
   "metadata": {
    "slideshow": {
     "slide_type": "slide"
    }
   },
   "source": [
    "# <center> MapReduce Design Patterns </center>\n",
    "\n",
    "### <center>Based on \"MapReduce Design Patterns\" by Donald Miner and Adam Shook</center>\n",
    "\n",
    "## <center> Linh B. Ngo </center>"
   ]
  },
  {
   "cell_type": "markdown",
   "metadata": {
    "slideshow": {
     "slide_type": "slide"
    }
   },
   "source": [
    "### Motivation\n",
    "\n",
    "- MapReduce is designed as a framework\n",
    "    - The solution has to fit into the framework\n",
    "    - There are clear boundaries on what can and cannot be done\n",
    "    - To create a solution that fits within existing boundaries is a challenge\n",
    "- MapReduce Design Pattern\n",
    "    - A template for solving common and general data manipulation problems with MapReduce\n",
    "    - Design patterns are not specific to a domain, but describe a general approach to solving a problem"
   ]
  },
  {
   "cell_type": "markdown",
   "metadata": {
    "scrolled": true,
    "slideshow": {
     "slide_type": "slide"
    }
   },
   "source": [
    "### Basic Patterns\n",
    "\n",
    "- Summarization\n",
    "- Filtering\n",
    "- Data Organization\n",
    "- Join\n",
    "- Metapatterns"
   ]
  },
  {
   "cell_type": "markdown",
   "metadata": {
    "scrolled": true,
    "slideshow": {
     "slide_type": "slide"
    }
   },
   "source": [
    "### Summarization\n",
    "- Grouping similar data together and perform an operation such as calculating a statistic, building an index, or just simply counting\n",
    "- Examples:\n",
    "    - Numerical summarizations\n",
    "    - Inverted Index\n",
    "    - Counting with Counters"
   ]
  },
  {
   "cell_type": "markdown",
   "metadata": {
    "scrolled": true,
    "slideshow": {
     "slide_type": "slide"
    }
   },
   "source": [
    "#### Numerical Summerizations\n",
    "\n",
    "- Calculate aggregate statistical values over a large data set\n",
    "- Benefit from a properly-designed combiner (How?)\n",
    "- Benefit from a properly-designed partitioner (How?)\n"
   ]
  },
  {
   "cell_type": "markdown",
   "metadata": {
    "slideshow": {
     "slide_type": "slide"
    }
   },
   "source": [
    "<center> <img src=\"pictures/12/numerical_summarization.png\" width=\"600\"/>"
   ]
  },
  {
   "cell_type": "markdown",
   "metadata": {
    "scrolled": true,
    "slideshow": {
     "slide_type": "slide"
    }
   },
   "source": [
    "#### Inverted Index\n",
    "\n",
    "- Generating an index from a data set to allow for faster searches or data enrichment capabilities\n",
    "- Benefit from the combiner (How?)"
   ]
  },
  {
   "cell_type": "markdown",
   "metadata": {
    "slideshow": {
     "slide_type": "slide"
    }
   },
   "source": [
    "<center> <img src=\"pictures/12/inverted-index.jpg\" width=\"600\"/>"
   ]
  },
  {
   "cell_type": "markdown",
   "metadata": {
    "collapsed": true,
    "scrolled": true,
    "slideshow": {
     "slide_type": "slide"
    }
   },
   "source": [
    "#### Counting with Counters\n",
    "\n",
    "- Utilizing MapReduce’s internal counter to calculate global sums on the entire data set\n",
    "- Done entirely in the mapping phase\n",
    "- Useful if number of keys is small"
   ]
  },
  {
   "cell_type": "markdown",
   "metadata": {
    "collapsed": true,
    "scrolled": true,
    "slideshow": {
     "slide_type": "slide"
    }
   },
   "source": [
    "### Filtering\n",
    "\n",
    "- Don’t change the actual records but find a subset of data in the entire data set\n",
    "- Examples\n",
    "    - Filtering\n",
    "    - Top-ten\n",
    "    - Distinct "
   ]
  },
  {
   "cell_type": "markdown",
   "metadata": {
    "collapsed": true,
    "scrolled": true,
    "slideshow": {
     "slide_type": "slide"
    }
   },
   "source": [
    "#### Filtering\n",
    "\n",
    "- Evaluates each record and decides, based on some condition, whether it should stay or go\n",
    "- Not require the “reduce part”\n",
    "- Can a combiner helps?"
   ]
  },
  {
   "cell_type": "markdown",
   "metadata": {
    "slideshow": {
     "slide_type": "slide"
    }
   },
   "source": [
    "<center> <img src=\"pictures/12/filtering.jpg\" width=\"400\"/>"
   ]
  },
  {
   "cell_type": "markdown",
   "metadata": {
    "slideshow": {
     "slide_type": "slide"
    }
   },
   "source": [
    "#### Top-Ten\n",
    "\n",
    "- Retrieve a relatively small number of top K records according to a ranking scheme in the data set\n",
    "- Important: Unique entries"
   ]
  },
  {
   "cell_type": "markdown",
   "metadata": {
    "slideshow": {
     "slide_type": "slide"
    }
   },
   "source": [
    "<center> <img src=\"pictures/12/top-ten.jpg\" width=\"600\"/>"
   ]
  },
  {
   "cell_type": "markdown",
   "metadata": {
    "slideshow": {
     "slide_type": "slide"
    }
   },
   "source": [
    "#### Distinct\n",
    "\n",
    "- Find a unique set of values\n",
    "- Key process: deduplication\n",
    "- Benefit from deduplication processes implemented inside mappers and combiners\n",
    "- Benefit from a large number of reducers"
   ]
  },
  {
   "cell_type": "markdown",
   "metadata": {
    "slideshow": {
     "slide_type": "slide"
    }
   },
   "source": [
    "### Data Organization\n",
    "\n",
    "- Reorganizing data to help improving value, performance, and usability. \n",
    "- Examples:\n",
    "    - Structured to Hierarchical\n",
    "    - Partitioning and Binning"
   ]
  },
  {
   "cell_type": "markdown",
   "metadata": {
    "slideshow": {
     "slide_type": "slide"
    }
   },
   "source": [
    "#### Structured to Hierarchical\n",
    "\n",
    "- Create new records with a different structure from the input data (e.g.: transform row-based data into a hierarchical format such as XML or JSON)"
   ]
  },
  {
   "cell_type": "markdown",
   "metadata": {
    "slideshow": {
     "slide_type": "slide"
    }
   },
   "source": [
    "<center> <img src=\"pictures/12/structured-hierarchical.jpg\" width=\"500\"/>"
   ]
  },
  {
   "cell_type": "markdown",
   "metadata": {
    "slideshow": {
     "slide_type": "slide"
    }
   },
   "source": [
    "#### Partitioning and Binning\n",
    "\n",
    "- Relies on Hadoop’s Partitioner and Binning capabilities to categorize data based on key ranges. \n",
    "- Binning: Mapping phase\n",
    "- Partitioning: After mapping"
   ]
  },
  {
   "cell_type": "markdown",
   "metadata": {
    "slideshow": {
     "slide_type": "slide"
    }
   },
   "source": [
    "<center> <img src=\"pictures/12/binning.jpg\" width=\"400\"/>"
   ]
  },
  {
   "cell_type": "markdown",
   "metadata": {
    "slideshow": {
     "slide_type": "slide"
    }
   },
   "source": [
    "<center> <img src=\"pictures/12/partitioning.jpg\" width=\"500\"/>"
   ]
  },
  {
   "cell_type": "markdown",
   "metadata": {
    "slideshow": {
     "slide_type": "slide"
    }
   },
   "source": [
    "### Join\n",
    "\n",
    "- Merging similar data (with or without aggregation) from multiple data sets\n",
    "- Examples:\n",
    "    - Reduce-side join\n",
    "    - Map-side join"
   ]
  },
  {
   "cell_type": "markdown",
   "metadata": {
    "slideshow": {
     "slide_type": "slide"
    }
   },
   "source": [
    "#### Reduce-side join\n",
    "\n",
    "- Join large multiple data sets together by some foreign keys \n",
    "- Simplest and most straight forward\n",
    "- Should be the last solution to look at"
   ]
  },
  {
   "cell_type": "markdown",
   "metadata": {
    "slideshow": {
     "slide_type": "slide"
    }
   },
   "source": [
    "<center> <img src=\"pictures/12/reduce-join.jpg\" width=\"500\"/>"
   ]
  },
  {
   "cell_type": "markdown",
   "metadata": {
    "slideshow": {
     "slide_type": "slide"
    }
   },
   "source": [
    "#### Map-side join\n",
    "\n",
    "- Joining happens in the map phase\n",
    "- Replicated Join\n",
    "- Composite Join"
   ]
  },
  {
   "cell_type": "markdown",
   "metadata": {
    "slideshow": {
     "slide_type": "slide"
    }
   },
   "source": [
    "#### Map-side join: replicated join\n",
    "<center> <img src=\"pictures/12/map-join-replicated.jpg\" width=\"300\"/>"
   ]
  },
  {
   "cell_type": "markdown",
   "metadata": {
    "slideshow": {
     "slide_type": "slide"
    }
   },
   "source": [
    "#### Map-side join: composite join\n",
    "<center> <img src=\"pictures/12/map-join-composite.jpg\" width=\"300\"/>"
   ]
  },
  {
   "cell_type": "markdown",
   "metadata": {
    "slideshow": {
     "slide_type": "slide"
    }
   },
   "source": [
    "### Metapatterns\n",
    "\n",
    "- Patterns that deal with patterns\n",
    "- Examples:\n",
    "    - Job chaining\n",
    "    - Job merging"
   ]
  },
  {
   "cell_type": "markdown",
   "metadata": {
    "slideshow": {
     "slide_type": "slide"
    }
   },
   "source": [
    "#### Job chaining\n",
    "\n",
    "- Many problems can’t be solved with a single MapReduce job\n",
    "- The default MapReduce framework requires a lot of manual coding to handle multistage jobs\n",
    "- Clean up intermediate outputs\n",
    "    - Handle failures\n",
    "    - Can be chained though the main Java program or external scripting\n",
    "- Possible support tools: Oozie, Cascade, Tez …"
   ]
  },
  {
   "cell_type": "markdown",
   "metadata": {
    "slideshow": {
     "slide_type": "slide"
    }
   },
   "source": [
    "#### Job chaining: chain folding\n",
    "\n",
    "- Optimization that is applied to MapReduce job chain\n",
    "- Reduce the amount of data movement in the MapReduce pipe line"
   ]
  },
  {
   "cell_type": "markdown",
   "metadata": {
    "slideshow": {
     "slide_type": "slide"
    }
   },
   "source": [
    "If multiple map phases are adjacent, merge them"
   ]
  },
  {
   "cell_type": "markdown",
   "metadata": {
    "slideshow": {
     "slide_type": "slide"
    }
   },
   "source": [
    "<center> <img src=\"pictures/12/chain-folding-1.jpg\" width=\"300\"/>"
   ]
  },
  {
   "cell_type": "markdown",
   "metadata": {
    "slideshow": {
     "slide_type": "slide"
    }
   },
   "source": [
    "If a job ends with a map phase, push that phase into the previous reducer"
   ]
  },
  {
   "cell_type": "markdown",
   "metadata": {
    "slideshow": {
     "slide_type": "slide"
    }
   },
   "source": [
    "<center> <img src=\"pictures/12/chain-folding-2.jpg\" width=\"300\"/>"
   ]
  },
  {
   "cell_type": "markdown",
   "metadata": {
    "slideshow": {
     "slide_type": "slide"
    }
   },
   "source": [
    "Split up map operations that decrease the amount of data from those that increase the amount of data"
   ]
  },
  {
   "cell_type": "markdown",
   "metadata": {
    "slideshow": {
     "slide_type": "slide"
    }
   },
   "source": [
    "<center> <img src=\"pictures/12/chain-folding-3.jpg\" width=\"300\"/>"
   ]
  },
  {
   "cell_type": "markdown",
   "metadata": {
    "slideshow": {
     "slide_type": "slide"
    }
   },
   "source": [
    "#### Job merging\n",
    "\n",
    "- Allows unrelated jobs loading the same data to share the MapReduce pipeline"
   ]
  },
  {
   "cell_type": "markdown",
   "metadata": {
    "scrolled": true,
    "slideshow": {
     "slide_type": "slide"
    }
   },
   "source": [
    "<center> <img src=\"pictures/12/merging.jpg\" width=\"400\"/>"
   ]
  }
 ],
 "metadata": {
  "celltoolbar": "Slideshow",
  "kernelspec": {
   "display_name": "Python 3",
   "language": "python",
   "name": "python3"
  },
  "language_info": {
   "codemirror_mode": {
    "name": "ipython",
    "version": 3
   },
   "file_extension": ".py",
   "mimetype": "text/x-python",
   "name": "python",
   "nbconvert_exporter": "python",
   "pygments_lexer": "ipython3",
   "version": "3.6.0"
  }
 },
 "nbformat": 4,
 "nbformat_minor": 1
}
