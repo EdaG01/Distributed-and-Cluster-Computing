{
 "cells": [
  {
   "cell_type": "markdown",
   "metadata": {
    "slideshow": {
     "slide_type": "slide"
    }
   },
   "source": [
    "** Step 1. Set up emulab geni-lib package for CloudLab **"
   ]
  },
  {
   "cell_type": "code",
   "execution_count": null,
   "metadata": {
    "collapsed": true,
    "slideshow": {
     "slide_type": "slide"
    }
   },
   "outputs": [],
   "source": [
    "!unzip codes/cloudlab/emulab-0.9.zip -d codes/cloudlab"
   ]
  },
  {
   "cell_type": "code",
   "execution_count": null,
   "metadata": {
    "collapsed": true,
    "slideshow": {
     "slide_type": "slide"
    }
   },
   "outputs": [],
   "source": [
    "!cd codes/cloudlab/emulab-geni-lib-1baf79cf12cb/;\\\n",
    "    module purge;\\\n",
    "    module load anaconda/4.2.0;\\\n",
    "    python setup.py install --user"
   ]
  },
  {
   "cell_type": "code",
   "execution_count": null,
   "metadata": {
    "collapsed": true,
    "slideshow": {
     "slide_type": "slide"
    }
   },
   "outputs": [],
   "source": [
    "!rm -Rf codes/cloudlab/emulab-geni-lib-1baf79cf12cb/"
   ]
  },
  {
   "cell_type": "markdown",
   "metadata": {
    "slideshow": {
     "slide_type": "slide"
    }
   },
   "source": [
    "** Step 2: Reload geni-lib for the first time **\n",
    "\n",
    "On the top bar of this notebook, select `Kernel` and then `Restart`"
   ]
  },
  {
   "cell_type": "markdown",
   "metadata": {
    "slideshow": {
     "slide_type": "slide"
    }
   },
   "source": [
    "** Step 3: Test emulab geni-lib installation **\n",
    "\n",
    "Executing this cell should produce an XML element with the following content:\n",
    "\n",
    "```\n",
    "<rspec xmlns:client=\"http://www.protogeni.net/resources/rspec/ext/client/1\" xmlns:emulab=\"http://www.protogeni.net/resources/rspec/ext/emulab/1\" xmlns:jacks=\"http://www.protogeni.net/resources/rspec/ext/jacks/1\" xmlns:xsi=\"http://www.w3.org/2001/XMLSchema-instance\" xmlns=\"http://www.geni.net/resources/rspec/3\" xsi:schemaLocation=\"http://www.geni.net/resources/rspec/3 http://www.geni.net/resources/rspec/3/request.xsd\" type=\"request\">\n",
    "  <rspec_tour xmlns=\"http://www.protogeni.net/resources/rspec/ext/apt-tour/1\">\n",
    "    <description type=\"markdown\">An example of constructing a profile with a single Xen VM.</description>\n",
    "    <instructions type=\"markdown\">Wait for the profile instance to start, and then log in to the VM via the\n",
    "ssh port specified below.  (Note that in this case, you will need to access\n",
    "the VM through a high port on the physical host, since we have not requested\n",
    "a public IP address for the VM itself.)\n",
    "</instructions>\n",
    "  </rspec_tour>\n",
    "  <node client_id=\"node\" exclusive=\"false\">\n",
    "    <sliver_type name=\"emulab-xen\"/>\n",
    "  </node>\n",
    "</rspec>\n",
    "```"
   ]
  },
  {
   "cell_type": "code",
   "execution_count": null,
   "metadata": {
    "slideshow": {
     "slide_type": "slide"
    }
   },
   "outputs": [],
   "source": [
    "%%writefile codes/cloudlab/xenvm.py\n",
    "\n",
    "\"\"\"An example of constructing a profile with a single Xen VM from CloudLab.\n",
    "\n",
    "Instructions:\n",
    "Wait for the profile instance to start, and then log in to the VM via the\n",
    "ssh port specified below.  (Note that in this case, you will need to access\n",
    "the VM through a high port on the physical host, since we have not requested\n",
    "a public IP address for the VM itself.)\n",
    "\"\"\"\n",
    "\n",
    "import geni.portal as portal\n",
    "import geni.rspec.pg as rspec\n",
    "\n",
    "# Create a Request object to start building the RSpec.\n",
    "request = portal.context.makeRequestRSpec()\n",
    " \n",
    "# Create a XenVM\n",
    "node = request.XenVM(\"node\")\n",
    "\n",
    "# Print the RSpec to the enclosing page.\n",
    "portal.context.printRequestRSpec()"
   ]
  },
  {
   "cell_type": "code",
   "execution_count": null,
   "metadata": {},
   "outputs": [],
   "source": [
    "!module purge;\\\n",
    "    module load anaconda/4.2.0;\\\n",
    "    python codes/cloudlab/xenvm.py"
   ]
  },
  {
   "cell_type": "markdown",
   "metadata": {
    "slideshow": {
     "slide_type": "slide"
    }
   },
   "source": [
    "** Example of designing an experimental profile for cluster of computers on CloudLab using geni-lib **"
   ]
  },
  {
   "cell_type": "code",
   "execution_count": null,
   "metadata": {
    "slideshow": {
     "slide_type": "slide"
    }
   },
   "outputs": [],
   "source": [
    "%%writefile codes/cloudlab/cluster.py\n",
    "import geni.portal as portal\n",
    "import geni.rspec.pg as rspec\n",
    "import geni.rspec.igext as IG\n",
    "\n",
    "pc = portal.Context()\n",
    "request = rspec.Request()\n",
    "\n",
    "pc.defineParameter(\"workerCount\",\n",
    "                   \"Number of computing nodes\",\n",
    "                   portal.ParameterType.INTEGER, 3)\n",
    "\n",
    "pc.defineParameter(\"controllerHost\", \"Name of head node\",\n",
    "                   portal.ParameterType.STRING, \"node0\", advanced=True,\n",
    "                   longDescription=\"The short name of the master node. You shold leave this alone unless you really want the hostname to change.\")\n",
    "\n",
    "params = pc.bindParameters()\n",
    "\n",
    "tourDescription = \"This profile provides a configurable cluster with one master running Apache and customizable computing nodes.\"\n",
    "\n",
    "tourInstructions = \\\n",
    "  \"\"\"\n",
    "### Basic Instructions\n",
    "Once your experiment nodes have booted, and this profile's configuration scripts have finished deploying, you'll be able to visit [the Apache Webserver interface](http://{host-%s}) on the master node. All  \n",
    "\"\"\" % (params.controllerHost)\n",
    "\n",
    "#\n",
    "# Setup the Tour info with the above description and instructions.\n",
    "#  \n",
    "tour = IG.Tour()\n",
    "tour.Description(IG.Tour.TEXT,tourDescription)\n",
    "tour.Instructions(IG.Tour.MARKDOWN,tourInstructions)\n",
    "request.addTour(tour)\n",
    "\n",
    "\n",
    "# Create a Request object to start building the RSpec.\n",
    "#request = portal.context.makeRequestRSpec()\n",
    "#request \n",
    "# Create a link with type LAN\n",
    "link = request.LAN(\"lan\")\n",
    "\n",
    "# Generate the nodes\n",
    "for i in range(params.workerCount + 1):\n",
    "    node = request.RawPC(\"node\" + str(i))\n",
    "    node.disk_image = \"urn:publicid:IDN+emulab.net+image+emulab-ops:UBUNTU14-64-STD\"\n",
    "    iface = node.addInterface(\"if\" + str(i))\n",
    "    iface.component_id = \"eth1\"\n",
    "    iface.addAddress(rspec.IPv4Address(\"192.168.1.\" + str(i + 1), \"255.255.255.0\"))\n",
    "    link.addInterface(iface)\n",
    "\n",
    "    if i == 0:\n",
    "        node.addService(rspec.Execute(shell=\"/bin/sh\",\n",
    "                                      command=\"sudo apt-get install apache2\"))\n",
    "        node.addService(rspec.Execute(shell=\"/bin/sh\",\n",
    "                                      command=\"sudo service apache2 start\"))\n",
    "\n",
    "# Print the RSpec to the enclosing page.\n",
    "portal.context.printRequestRSpec(request)"
   ]
  },
  {
   "cell_type": "code",
   "execution_count": null,
   "metadata": {},
   "outputs": [],
   "source": [
    "!module purge;\\\n",
    "    module load anaconda/4.2.0;\\\n",
    "    python codes/cloudlab/cluster.py"
   ]
  },
  {
   "cell_type": "markdown",
   "metadata": {
    "collapsed": true
   },
   "source": [
    "** If things fail, where to go? **\n",
    "\n",
    "```\n",
    "/var/tmp/start-up*\n",
    "```"
   ]
  },
  {
   "cell_type": "code",
   "execution_count": 1,
   "metadata": {},
   "outputs": [
    {
     "name": "stdout",
     "output_type": "stream",
     "text": [
      "Overwriting codes/cloudlab/cluster.py\n"
     ]
    }
   ],
   "source": [
    "%%writefile codes/cloudlab/cluster.py\n",
    "import geni.portal as portal\n",
    "import geni.rspec.pg as rspec\n",
    "import geni.rspec.igext as IG\n",
    "\n",
    "pc = portal.Context()\n",
    "request = rspec.Request()\n",
    "\n",
    "pc.defineParameter(\"workerCount\",\n",
    "                   \"Number of computing nodes\",\n",
    "                   portal.ParameterType.INTEGER, 3)\n",
    "\n",
    "pc.defineParameter(\"controllerHost\", \"Name of head node\",\n",
    "                   portal.ParameterType.STRING, \"node0\", advanced=True,\n",
    "                   longDescription=\"The short name of the master node. You shold leave this alone unless you really want the hostname to change.\")\n",
    "\n",
    "params = pc.bindParameters()\n",
    "\n",
    "tourDescription = \"This profile provides a configurable cluster with one master running Apache and customizable computing nodes.\"\n",
    "\n",
    "tourInstructions = \\\n",
    "  \"\"\"\n",
    "### Basic Instructions\n",
    "Once your experiment nodes have booted, and this profile's configuration scripts have finished deploying, you'll be able to visit [the Apache Webserver interface](http://{host-%s}) on the master node. All  \n",
    "\"\"\" % (params.controllerHost)\n",
    "\n",
    "#\n",
    "# Setup the Tour info with the above description and instructions.\n",
    "#  \n",
    "tour = IG.Tour()\n",
    "tour.Description(IG.Tour.TEXT,tourDescription)\n",
    "tour.Instructions(IG.Tour.MARKDOWN,tourInstructions)\n",
    "request.addTour(tour)\n",
    "\n",
    "\n",
    "# Create a Request object to start building the RSpec.\n",
    "#request = portal.context.makeRequestRSpec()\n",
    "#request \n",
    "# Create a link with type LAN\n",
    "link = request.LAN(\"lan\")\n",
    "\n",
    "# Generate the nodes\n",
    "for i in range(params.workerCount + 1):\n",
    "    node = request.RawPC(\"node\" + str(i))\n",
    "    node.disk_image = \"urn:publicid:IDN+emulab.net+image+emulab-ops:UBUNTU14-64-STD\"\n",
    "    iface = node.addInterface(\"if\" + str(i))\n",
    "    iface.component_id = \"eth1\"\n",
    "    iface.addAddress(rspec.IPv4Address(\"192.168.1.\" + str(i + 1), \"255.255.255.0\"))\n",
    "    link.addInterface(iface)\n",
    "\n",
    "    if i == 0:\n",
    "        node.addService(rspec.Execute(shell=\"/bin/sh\",\n",
    "                                      command=\"sudo apt-get update\"))\n",
    "        node.addService(rspec.Execute(shell=\"/bin/sh\",\n",
    "                                      command=\"sudo apt-get install -y apache2\"))\n",
    "\n",
    "# Print the RSpec to the enclosing page.\n",
    "portal.context.printRequestRSpec(request)"
   ]
  },
  {
   "cell_type": "code",
   "execution_count": 2,
   "metadata": {},
   "outputs": [
    {
     "name": "stdout",
     "output_type": "stream",
     "text": [
      "<rspec xmlns:client=\"http://www.protogeni.net/resources/rspec/ext/client/1\" xmlns:emulab=\"http://www.protogeni.net/resources/rspec/ext/emulab/1\" xmlns:jacks=\"http://www.protogeni.net/resources/rspec/ext/jacks/1\" xmlns:xsi=\"http://www.w3.org/2001/XMLSchema-instance\" xmlns=\"http://www.geni.net/resources/rspec/3\" xsi:schemaLocation=\"http://www.geni.net/resources/rspec/3 http://www.geni.net/resources/rspec/3/request.xsd\" type=\"request\">\r\n",
      "  <rspec_tour xmlns=\"http://www.protogeni.net/resources/rspec/ext/apt-tour/1\">\r\n",
      "    <description type=\"text\">This profile provides a configurable cluster with one master running Apache and customizable computing nodes.</description>\r\n",
      "    <instructions type=\"markdown\">\r\n",
      "### Basic Instructions\r\n",
      "Once your experiment nodes have booted, and this profile's configuration scripts have finished deploying, you'll be able to visit [the Apache Webserver interface](http://{host-node0}) on the master node. All  \r\n",
      "</instructions>\r\n",
      "  </rspec_tour>\r\n",
      "  <link client_id=\"lan\">\r\n",
      "    <interface_ref client_id=\"node0:if0\"/>\r\n",
      "    <interface_ref client_id=\"node1:if1\"/>\r\n",
      "    <interface_ref client_id=\"node2:if2\"/>\r\n",
      "    <interface_ref client_id=\"node3:if3\"/>\r\n",
      "    <link_type name=\"lan\"/>\r\n",
      "  </link>\r\n",
      "  <node client_id=\"node0\" exclusive=\"true\">\r\n",
      "    <sliver_type name=\"raw\">\r\n",
      "      <disk_image name=\"urn:publicid:IDN+emulab.net+image+emulab-ops:UBUNTU14-64-STD\"/>\r\n",
      "    </sliver_type>\r\n",
      "    <interface client_id=\"node0:if0\" component_id=\"eth1\">\r\n",
      "      <ip address=\"192.168.1.1\" netmask=\"255.255.255.0\" type=\"ipv4\"/>\r\n",
      "    </interface>\r\n",
      "    <services>\r\n",
      "      <execute shell=\"/bin/sh\" command=\"sudo apt-get update\"/>\r\n",
      "      <execute shell=\"/bin/sh\" command=\"sudo apt-get install -y apache2\"/>\r\n",
      "    </services>\r\n",
      "  </node>\r\n",
      "  <node client_id=\"node1\" exclusive=\"true\">\r\n",
      "    <sliver_type name=\"raw\">\r\n",
      "      <disk_image name=\"urn:publicid:IDN+emulab.net+image+emulab-ops:UBUNTU14-64-STD\"/>\r\n",
      "    </sliver_type>\r\n",
      "    <interface client_id=\"node1:if1\" component_id=\"eth1\">\r\n",
      "      <ip address=\"192.168.1.2\" netmask=\"255.255.255.0\" type=\"ipv4\"/>\r\n",
      "    </interface>\r\n",
      "  </node>\r\n",
      "  <node client_id=\"node2\" exclusive=\"true\">\r\n",
      "    <sliver_type name=\"raw\">\r\n",
      "      <disk_image name=\"urn:publicid:IDN+emulab.net+image+emulab-ops:UBUNTU14-64-STD\"/>\r\n",
      "    </sliver_type>\r\n",
      "    <interface client_id=\"node2:if2\" component_id=\"eth1\">\r\n",
      "      <ip address=\"192.168.1.3\" netmask=\"255.255.255.0\" type=\"ipv4\"/>\r\n",
      "    </interface>\r\n",
      "  </node>\r\n",
      "  <node client_id=\"node3\" exclusive=\"true\">\r\n",
      "    <sliver_type name=\"raw\">\r\n",
      "      <disk_image name=\"urn:publicid:IDN+emulab.net+image+emulab-ops:UBUNTU14-64-STD\"/>\r\n",
      "    </sliver_type>\r\n",
      "    <interface client_id=\"node3:if3\" component_id=\"eth1\">\r\n",
      "      <ip address=\"192.168.1.4\" netmask=\"255.255.255.0\" type=\"ipv4\"/>\r\n",
      "    </interface>\r\n",
      "  </node>\r\n",
      "  <data_set xmlns=\"http://www.protogeni.net/resources/rspec/ext/profile-parameters/1\">\r\n",
      "    <data_item name=\"emulab.net.parameter.controllerHost\">node0</data_item>\r\n",
      "    <data_item name=\"emulab.net.parameter.workerCount\">3</data_item>\r\n",
      "  </data_set>\r\n",
      "</rspec>\r\n"
     ]
    }
   ],
   "source": [
    "!module purge;\\\n",
    "    module load anaconda/4.2.0;\\\n",
    "    python codes/cloudlab/cluster.py"
   ]
  }
 ],
 "metadata": {
  "anaconda-cloud": {},
  "celltoolbar": "Slideshow",
  "kernelspec": {
   "display_name": "Python 2 (Anaconda)",
   "language": "python",
   "name": "anaconda_py2"
  },
  "language_info": {
   "codemirror_mode": {
    "name": "ipython",
    "version": 2
   },
   "file_extension": ".py",
   "mimetype": "text/x-python",
   "name": "python",
   "nbconvert_exporter": "python",
   "pygments_lexer": "ipython2",
   "version": "2.7.12"
  }
 },
 "nbformat": 4,
 "nbformat_minor": 1
}
