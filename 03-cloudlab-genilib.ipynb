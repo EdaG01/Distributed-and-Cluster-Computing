{
 "cells": [
  {
   "cell_type": "markdown",
   "metadata": {
    "slideshow": {
     "slide_type": "slide"
    }
   },
   "source": [
    "** Step 1. Set up emulab geni-lib package for CloudLab **"
   ]
  },
  {
   "cell_type": "code",
   "execution_count": null,
   "metadata": {
    "collapsed": true,
    "slideshow": {
     "slide_type": "slide"
    }
   },
   "outputs": [],
   "source": [
    "!unzip codes/cloudlab/emulab-0.9.zip -d codes/cloudlab"
   ]
  },
  {
   "cell_type": "code",
   "execution_count": null,
   "metadata": {
    "collapsed": true,
    "slideshow": {
     "slide_type": "slide"
    }
   },
   "outputs": [],
   "source": [
    "!cd codes/cloudlab/emulab-geni-lib-1baf79cf12cb/;\\\n",
    "    module purge;\\\n",
    "    module load anaconda/4.2.0;\\\n",
    "    python setup.py install --user"
   ]
  },
  {
   "cell_type": "code",
   "execution_count": 1,
   "metadata": {
    "scrolled": true,
    "slideshow": {
     "slide_type": "slide"
    }
   },
   "outputs": [
    {
     "name": "stdout",
     "output_type": "stream",
     "text": [
      "dsml.py\t\t\t      pdfminer-20140328.dist-info\r\n",
      "dsml.pyc\t\t      pkg_resources\r\n",
      "dsml.pyo\t\t      plotly\r\n",
      "easy-install.pth\t      plotly-1.9.6.dist-info\r\n",
      "easy_install.py\t\t      protobuf-3.0.0b2.dist-info\r\n",
      "easy_install.pyc\t      protobuf-3.0.0b2-py2.7-nspkg.pth\r\n",
      "examples\t\t      pydoop\r\n",
      "external\t\t      pydoop-1.2.0.dist-info\r\n",
      "feedparser-5.2.1.dist-info    python_ldap-2.4.25.dist-info\r\n",
      "feedparser.py\t\t      remote_ikernel\r\n",
      "feedparser.pyc\t\t      remote_ikernel-0.4.5.dist-info\r\n",
      "filechunkio\t\t      requests-2.13.0-py2.7.egg\r\n",
      "filechunkio-1.6.dist-info     requests_oauthlib\r\n",
      "geni_lib-0.9.4.6-py2.7.egg    requests_oauthlib-0.5.0.dist-info\r\n",
      "google\t\t\t      seal\r\n",
      "happybase\t\t      seal-devel_bf3090f-py2.7.egg-info\r\n",
      "happybase-0.9.dist-info       setuptools\r\n",
      "kafka\t\t\t      setuptools-23.1.0.dist-info\r\n",
      "kafka_python-1.3.1.dist-info  setuptools.pth\r\n",
      "ldap\t\t\t      six-1.10.0.dist-info\r\n",
      "_ldap.so\t\t      six.py\r\n",
      "ldapurl.py\t\t      six.pyc\r\n",
      "ldapurl.pyc\t\t      tensorflow\r\n",
      "ldapurl.pyo\t\t      tensorflow-0.9.0.dist-info\r\n",
      "ldif.py\t\t\t      thrift\r\n",
      "ldif.pyc\t\t      thrift-0.9.3.dist-info\r\n",
      "ldif.pyo\t\t      tweepy\r\n",
      "M2Crypto\t\t      tweepy-3.5.0.dist-info\r\n",
      "M2Crypto-0.25.1.dist-info     TwitterAPI\r\n",
      "mrjob\t\t\t      TwitterAPI-2.3.5.dist-info\r\n",
      "mrjob-0.5.0.dist-info\t      typing-3.5.3.0.dist-info\r\n",
      "numpy\t\t\t      typing.py\r\n",
      "numpy-1.11.1.dist-info\t      typing.pyc\r\n",
      "oauthlib\t\t      wheel\r\n",
      "oauthlib-1.0.3.dist-info      wheel-0.29.0.dist-info\r\n",
      "pdfminer\t\t      wrapt-1.10.8-py2.7-linux-x86_64.egg\r\n"
     ]
    }
   ],
   "source": [
    "!ls /home/lngo/.local/lib/python2.7/site-packages/"
   ]
  },
  {
   "cell_type": "code",
   "execution_count": null,
   "metadata": {
    "collapsed": true,
    "slideshow": {
     "slide_type": "slide"
    }
   },
   "outputs": [],
   "source": [
    "!rm -Rf codes/cloudlab/emulab-geni-lib-1baf79cf12cb/"
   ]
  },
  {
   "cell_type": "markdown",
   "metadata": {
    "slideshow": {
     "slide_type": "slide"
    }
   },
   "source": [
    "** Step 2: Reload geni-lib for the first time **\n",
    "\n",
    "On the top bar of this notebook, select `Kernel` and then `Restart`"
   ]
  },
  {
   "cell_type": "code",
   "execution_count": 1,
   "metadata": {
    "slideshow": {
     "slide_type": "slide"
    }
   },
   "outputs": [
    {
     "name": "stdout",
     "output_type": "stream",
     "text": [
      "Overwriting codes/cloudlab/xenvm.py\n"
     ]
    }
   ],
   "source": [
    "%%writefile codes/cloudlab/xenvm.py\n",
    "\n",
    "\"\"\"An example of constructing a profile with a single Xen VM from CloudLab.\n",
    "\n",
    "Instructions:\n",
    "Wait for the profile instance to start, and then log in to the VM via the\n",
    "ssh port specified below.  (Note that in this case, you will need to access\n",
    "the VM through a high port on the physical host, since we have not requested\n",
    "a public IP address for the VM itself.)\n",
    "\"\"\"\n",
    "\n",
    "import geni.portal as portal\n",
    "import geni.rspec.pg as rspec\n",
    "\n",
    "# Create a Request object to start building the RSpec.\n",
    "request = portal.context.makeRequestRSpec()\n",
    "# Create a XenVM\n",
    "node = request.XenVM(\"node\")\n",
    "node.disk_image = \"urn:publicid:IDN+emulab.net+image+emulab-ops:UBUNTU14-64-STD\"\n",
    "node.routable_control_ip = \"true\"\n",
    "\n",
    "node.addService(rspec.Execute(shell=\"/bin/sh\",\n",
    "                              command=\"sudo apt-get update\"))\n",
    "node.addService(rspec.Execute(shell=\"/bin/sh\",\n",
    "                              command=\"sudo apt-get install -y apache2\"))\n",
    "# Print the RSpec to the enclosing page.\n",
    "portal.context.printRequestRSpec()"
   ]
  },
  {
   "cell_type": "markdown",
   "metadata": {
    "slideshow": {
     "slide_type": "slide"
    }
   },
   "source": [
    "** Step 3: Test emulab geni-lib installation **\n",
    "\n",
    "Executing the cell below should produce an XML element with the following content:\n",
    "\n",
    "```\n",
    "<rspec xmlns:client=\"http://www.protogeni.net/resources/rspec/ext/client/1\" xmlns:emulab=\"http://www.protogeni.net/resources/rspec/ext/emulab/1\" xmlns:jacks=\"http://www.protogeni.net/resources/rspec/ext/jacks/1\" xmlns:xsi=\"http://www.w3.org/2001/XMLSchema-instance\" xmlns=\"http://www.geni.net/resources/rspec/3\" xsi:schemaLocation=\"http://www.geni.net/resources/rspec/3 http://www.geni.net/resources/rspec/3/request.xsd\" type=\"request\">\n",
    "  <rspec_tour xmlns=\"http://www.protogeni.net/resources/rspec/ext/apt-tour/1\">\n",
    "    <description type=\"markdown\">An example of constructing a profile with a single Xen VM.</description>\n",
    "    <instructions type=\"markdown\">Wait for the profile instance to start, and then log in to the VM via the\n",
    "ssh port specified below.  (Note that in this case, you will need to access\n",
    "the VM through a high port on the physical host, since we have not requested\n",
    "a public IP address for the VM itself.)\n",
    "</instructions>\n",
    "  </rspec_tour>\n",
    "  <node client_id=\"node\" exclusive=\"false\">\n",
    "    <sliver_type name=\"emulab-xen\"/>\n",
    "  </node>\n",
    "</rspec>\n",
    "```"
   ]
  },
  {
   "cell_type": "code",
   "execution_count": 2,
   "metadata": {
    "slideshow": {
     "slide_type": "slide"
    }
   },
   "outputs": [
    {
     "name": "stdout",
     "output_type": "stream",
     "text": [
      "<rspec xmlns:client=\"http://www.protogeni.net/resources/rspec/ext/client/1\" xmlns:emulab=\"http://www.protogeni.net/resources/rspec/ext/emulab/1\" xmlns:jacks=\"http://www.protogeni.net/resources/rspec/ext/jacks/1\" xmlns:xsi=\"http://www.w3.org/2001/XMLSchema-instance\" xmlns=\"http://www.geni.net/resources/rspec/3\" xsi:schemaLocation=\"http://www.geni.net/resources/rspec/3 http://www.geni.net/resources/rspec/3/request.xsd\" type=\"request\">\r\n",
      "  <rspec_tour xmlns=\"http://www.protogeni.net/resources/rspec/ext/apt-tour/1\">\r\n",
      "    <description type=\"markdown\">An example of constructing a profile with a single Xen VM from CloudLab.</description>\r\n",
      "    <instructions type=\"markdown\">Wait for the profile instance to start, and then log in to the VM via the\r\n",
      "ssh port specified below.  (Note that in this case, you will need to access\r\n",
      "the VM through a high port on the physical host, since we have not requested\r\n",
      "a public IP address for the VM itself.)\r\n",
      "</instructions>\r\n",
      "  </rspec_tour>\r\n",
      "  <node client_id=\"node\" exclusive=\"false\">\r\n",
      "    <sliver_type name=\"emulab-xen\">\r\n",
      "      <disk_image name=\"urn:publicid:IDN+emulab.net+image+emulab-ops:UBUNTU14-64-STD\"/>\r\n",
      "    </sliver_type>\r\n",
      "    <services>\r\n",
      "      <execute shell=\"/bin/sh\" command=\"sudo apt-get update\"/>\r\n",
      "      <execute shell=\"/bin/sh\" command=\"sudo apt-get install -y apache2\"/>\r\n",
      "    </services>\r\n",
      "    <emulab:routable_control_ip/>\r\n",
      "  </node>\r\n",
      "</rspec>\r\n"
     ]
    }
   ],
   "source": [
    "!module purge;\\\n",
    "    module load anaconda/4.2.0;\\\n",
    "    python codes/cloudlab/xenvm.py"
   ]
  },
  {
   "cell_type": "markdown",
   "metadata": {
    "collapsed": true,
    "slideshow": {
     "slide_type": "slide"
    }
   },
   "source": [
    "** If things fail, where to go? **\n",
    "\n",
    "```\n",
    "/var/tmp/start-up*\n",
    "```"
   ]
  },
  {
   "cell_type": "markdown",
   "metadata": {
    "slideshow": {
     "slide_type": "slide"
    }
   },
   "source": [
    "- The geni-lib library helps validate the syntatical correctness of your python-based experimental design\n",
    "- It is similar to Amazon AWS' [Cloud Formation](https://aws.amazon.com/cloudformation/)\n",
    "- It does not help validate the structural correctness of your experiment upon deployment\n",
    "- Manual modifications of design codes and experimental profiles are time-consuming\n",
    "- CloudLab supports linking to experimental codes located on Github, and the experimental profiles will automatically update via git's web-hooks"
   ]
  },
  {
   "cell_type": "markdown",
   "metadata": {
    "slideshow": {
     "slide_type": "slide"
    }
   },
   "source": [
    "- Fork the following github repository: https://github.com/lbstoller/my-profile into your Github account\n",
    "- Create a new experimental profile that points to the forked repository in your account\n",
    "- Setup web-hook\n",
    "- Instantiate one experiment using the original version of the profile\n",
    "- Modify the `profile.py` that it uses the **UNTU14-64-STD** image and has a public IP interface\n",
    "- Modify the `silly.sh` file so that it contains the command to update the package and installs apache2\n",
    "- Instantiate a second experiment using the profile\n",
    "- Confirm that the two experiments are different"
   ]
  },
  {
   "cell_type": "markdown",
   "metadata": {
    "slideshow": {
     "slide_type": "slide"
    }
   },
   "source": [
    "** Example of designing an experimental profile for Cloud Computing infrastructure on CloudLab using geni-lib **\n",
    "\n",
    "- Sets the template for future assignments in this class\n",
    "- Is based on CloudLab's default stack profile\n",
    "- https://github.com/linhbngo/cloudlab_openstack\n"
   ]
  }
 ],
 "metadata": {
  "anaconda-cloud": {},
  "celltoolbar": "Slideshow",
  "kernelspec": {
   "display_name": "Python 2 (Anaconda)",
   "language": "python",
   "name": "anaconda_py2"
  },
  "language_info": {
   "codemirror_mode": {
    "name": "ipython",
    "version": 2
   },
   "file_extension": ".py",
   "mimetype": "text/x-python",
   "name": "python",
   "nbconvert_exporter": "python",
   "pygments_lexer": "ipython2",
   "version": "2.7.12"
  }
 },
 "nbformat": 4,
 "nbformat_minor": 1
}
