{
 "cells": [
  {
   "cell_type": "markdown",
   "metadata": {
    "slideshow": {
     "slide_type": "slide"
    }
   },
   "source": [
    "** Step 1. Set up emulab geni-lib package for CloudLab **"
   ]
  },
  {
   "cell_type": "markdown",
   "metadata": {
    "slideshow": {
     "slide_type": "slide"
    }
   },
   "source": [
    "Open a new terminal and run the following command:\n",
    "\n",
    "```\n",
    "$ sudo yum install -y unzip\n",
    "$ conda create -n python2 python=2.7\n",
    "$ source activate python2\n",
    "$ conda install ipykernel\n",
    "$ python -m ipykernel install --name python2 --user\n",
    "$ conda install lxml\n",
    "```"
   ]
  },
  {
   "cell_type": "markdown",
   "metadata": {
    "slideshow": {
     "slide_type": "slide"
    }
   },
   "source": [
    "- Restart your Jupyter Server\n",
    "- Reopen this notebook, go to Kernel, and change Kernel to `Python 2`"
   ]
  },
  {
   "cell_type": "code",
   "execution_count": null,
   "metadata": {
    "slideshow": {
     "slide_type": "slide"
    }
   },
   "outputs": [],
   "source": [
    "!unzip codes/cloudlab/emulab-0.9.zip -d codes/cloudlab"
   ]
  },
  {
   "cell_type": "code",
   "execution_count": null,
   "metadata": {
    "slideshow": {
     "slide_type": "slide"
    }
   },
   "outputs": [],
   "source": [
    "!cd codes/cloudlab/emulab-geni-lib-1baf79cf12cb/;\\\n",
    "    source activate python2;\\\n",
    "    python setup.py install --user"
   ]
  },
  {
   "cell_type": "code",
   "execution_count": null,
   "metadata": {
    "scrolled": true,
    "slideshow": {
     "slide_type": "slide"
    }
   },
   "outputs": [],
   "source": [
    "!ls /home/lngo/.local/lib/python2.7/site-packages/"
   ]
  },
  {
   "cell_type": "code",
   "execution_count": null,
   "metadata": {
    "slideshow": {
     "slide_type": "slide"
    }
   },
   "outputs": [],
   "source": [
    "!rm -Rf codes/cloudlab/emulab-geni-lib-1baf79cf12cb/"
   ]
  },
  {
   "cell_type": "markdown",
   "metadata": {
    "slideshow": {
     "slide_type": "slide"
    }
   },
   "source": [
    "** Step 2: Reload geni-lib for the first time **\n",
    "\n",
    "On the top bar of this notebook, select `Kernel` and then `Restart`"
   ]
  },
  {
   "cell_type": "code",
   "execution_count": null,
   "metadata": {
    "slideshow": {
     "slide_type": "slide"
    }
   },
   "outputs": [],
   "source": [
    "%%writefile codes/cloudlab/xenvm.py\n",
    "\n",
    "\"\"\"An example of constructing a profile with a single Xen VM from CloudLab.\n",
    "\n",
    "Instructions:\n",
    "Wait for the profile instance to start, and then log in to the VM via the\n",
    "ssh port specified below.  (Note that in this case, you will need to access\n",
    "the VM through a high port on the physical host, since we have not requested\n",
    "a public IP address for the VM itself.)\n",
    "\"\"\"\n",
    "\n",
    "import geni.portal as portal\n",
    "import geni.rspec.pg as rspec\n",
    "\n",
    "# Create a Request object to start building the RSpec.\n",
    "request = portal.context.makeRequestRSpec()\n",
    "# Create a XenVM\n",
    "node = request.XenVM(\"node\")\n",
    "node.disk_image = \"urn:publicid:IDN+emulab.net+image+emulab-ops:CENTOS7-64-STD\"\n",
    "node.routable_control_ip = \"true\"\n",
    "\n",
    "node.addService(rspec.Execute(shell=\"/bin/sh\",\n",
    "                              command=\"sudo yum update\"))\n",
    "node.addService(rspec.Execute(shell=\"/bin/sh\",\n",
    "                              command=\"sudo yum install -y httpd\"))\n",
    "node.addService(rspec.Execute(shell=\"/bin/sh\",\n",
    "                              command=\"sudo systemctl restart httpd.service\"))\n",
    "# Print the RSpec to the enclosing page.\n",
    "portal.context.printRequestRSpec()"
   ]
  },
  {
   "cell_type": "markdown",
   "metadata": {
    "slideshow": {
     "slide_type": "slide"
    }
   },
   "source": [
    "** Step 3: Test emulab geni-lib installation **\n",
    "\n",
    "Executing the cell below should produce an XML element with the following content:\n",
    "\n",
    "```\n",
    "<rspec xmlns:client=\"http://www.protogeni.net/resources/rspec/ext/client/1\" xmlns:emulab=\"http://www.protogeni.net/resources/rspec/ext/emulab/1\" xmlns:jacks=\"http://www.protogeni.net/resources/rspec/ext/jacks/1\" xmlns:xsi=\"http://www.w3.org/2001/XMLSchema-instance\" xmlns=\"http://www.geni.net/resources/rspec/3\" xsi:schemaLocation=\"http://www.geni.net/resources/rspec/3 http://www.geni.net/resources/rspec/3/request.xsd\" type=\"request\">\n",
    "  <rspec_tour xmlns=\"http://www.protogeni.net/resources/rspec/ext/apt-tour/1\">\n",
    "    <description type=\"markdown\">An example of constructing a profile with a single Xen VM.</description>\n",
    "    <instructions type=\"markdown\">Wait for the profile instance to start, and then log in to the VM via the\n",
    "ssh port specified below.  (Note that in this case, you will need to access\n",
    "the VM through a high port on the physical host, since we have not requested\n",
    "a public IP address for the VM itself.)\n",
    "</instructions>\n",
    "  </rspec_tour>\n",
    "  <node client_id=\"node\" exclusive=\"false\">\n",
    "    <sliver_type name=\"emulab-xen\"/>\n",
    "  </node>\n",
    "</rspec>\n",
    "```"
   ]
  },
  {
   "cell_type": "code",
   "execution_count": null,
   "metadata": {
    "slideshow": {
     "slide_type": "slide"
    }
   },
   "outputs": [],
   "source": [
    "!source activate python2;\\\n",
    "  python codes/cloudlab/xenvm.py"
   ]
  },
  {
   "cell_type": "markdown",
   "metadata": {
    "collapsed": true,
    "slideshow": {
     "slide_type": "slide"
    }
   },
   "source": [
    "** If things fail, where to go? **\n",
    "\n",
    "```\n",
    "/var/tmp/start-up*\n",
    "```"
   ]
  },
  {
   "cell_type": "markdown",
   "metadata": {
    "slideshow": {
     "slide_type": "slide"
    }
   },
   "source": [
    "- The geni-lib library helps validate the syntatical correctness of your python-based experimental design\n",
    "- It is similar to Amazon AWS' [Cloud Formation](https://aws.amazon.com/cloudformation/)\n",
    "- It does not help validate the structural correctness of your experiment upon deployment\n",
    "- Manual modifications of design codes and experimental profiles are time-consuming\n",
    "- CloudLab supports linking to experimental codes located on Github, and the experimental profiles will automatically update via git's web-hooks"
   ]
  },
  {
   "cell_type": "markdown",
   "metadata": {
    "slideshow": {
     "slide_type": "slide"
    }
   },
   "source": [
    "- Fork the following github repository: https://github.com/lbstoller/my-profile into your Github account\n",
    "- Create a new experimental profile that points to the forked repository in your account\n",
    "- Setup web-hook\n",
    "- Instantiate an experiment using the original version of the profile"
   ]
  },
  {
   "cell_type": "markdown",
   "metadata": {
    "slideshow": {
     "slide_type": "slide"
    }
   },
   "source": [
    "** Example of designing an experimental profile for Cloud Computing infrastructure on CloudLab using geni-lib **\n",
    "\n",
    "- Sets the template for future assignments in this class\n",
    "- Is based on CloudLab's default stack profile\n",
    "- https://github.com/linhbngo/cloudlab_openstack\n"
   ]
  }
 ],
 "metadata": {
  "anaconda-cloud": {},
  "celltoolbar": "Slideshow",
  "kernelspec": {
   "display_name": "Python 2",
   "language": "python",
   "name": "python2"
  },
  "language_info": {
   "codemirror_mode": {
    "name": "ipython",
    "version": 2
   },
   "file_extension": ".py",
   "mimetype": "text/x-python",
   "name": "python",
   "nbconvert_exporter": "python",
   "pygments_lexer": "ipython2",
   "version": "2.7.15"
  }
 },
 "nbformat": 4,
 "nbformat_minor": 1
}
